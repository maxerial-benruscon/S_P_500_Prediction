{
 "cells": [
  {
   "cell_type": "code",
   "execution_count": 1,
   "metadata": {},
   "outputs": [],
   "source": [
    "import pandas as pd"
   ]
  },
  {
   "cell_type": "code",
   "execution_count": 5,
   "metadata": {},
   "outputs": [
    {
     "name": "stdout",
     "output_type": "stream",
     "text": [
      "1798225\n",
      "2530\n",
      "1798225\n"
     ]
    }
   ],
   "source": [
    "df = pd.read_csv('data/sp500_stocks.csv')\n",
    "print(len(df))\n",
    "df.head()\n",
    "df_index = pd.read_csv('data/sp500_index.csv')\n",
    "print(len(df_index))\n",
    "stocks = pd.read_csv('data/sp500_stocks.csv')\n",
    "print(len(stocks))"
   ]
  }
 ],
 "metadata": {
  "kernelspec": {
   "display_name": "BK",
   "language": "python",
   "name": "python3"
  },
  "language_info": {
   "codemirror_mode": {
    "name": "ipython",
    "version": 3
   },
   "file_extension": ".py",
   "mimetype": "text/x-python",
   "name": "python",
   "nbconvert_exporter": "python",
   "pygments_lexer": "ipython3",
   "version": "3.12.2"
  }
 },
 "nbformat": 4,
 "nbformat_minor": 2
}
