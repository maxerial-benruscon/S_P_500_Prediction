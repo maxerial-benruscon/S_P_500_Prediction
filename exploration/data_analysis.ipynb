{
 "cells": [
  {
   "cell_type": "code",
   "execution_count": 1,
   "metadata": {},
   "outputs": [],
   "source": [
    "import pandas as pd\n",
    "import numpy as np"
   ]
  },
  {
   "cell_type": "code",
   "execution_count": 2,
   "metadata": {},
   "outputs": [],
   "source": [
    "df = pd.read_csv('data/sp500_stocks.csv')"
   ]
  },
  {
   "cell_type": "code",
   "execution_count": 3,
   "metadata": {},
   "outputs": [
    {
     "name": "stdout",
     "output_type": "stream",
     "text": [
      "             Date Symbol  Adj Close  Close  High  Low  Open  Volume\n",
      "10725  2010-01-04   ABBV        NaN    NaN   NaN  NaN   NaN     NaN\n",
      "10726  2010-01-05   ABBV        NaN    NaN   NaN  NaN   NaN     NaN\n",
      "10727  2010-01-06   ABBV        NaN    NaN   NaN  NaN   NaN     NaN\n",
      "10728  2010-01-07   ABBV        NaN    NaN   NaN  NaN   NaN     NaN\n",
      "10729  2010-01-08   ABBV        NaN    NaN   NaN  NaN   NaN     NaN\n"
     ]
    }
   ],
   "source": [
    "#show sample lines with nan values\n",
    "print(df[df.isnull().any(axis=1)].head())"
   ]
  },
  {
   "cell_type": "code",
   "execution_count": 9,
   "metadata": {},
   "outputs": [
    {
     "data": {
      "text/plain": [
       "Symbol\n",
       "VLTO    26.022556\n",
       "KVUE    13.135029\n",
       "GEHC     8.901729\n",
       "CEG      4.786109\n",
       "ABNB     2.875239\n",
       "          ...    \n",
       "ETN      0.000000\n",
       "ESS      0.000000\n",
       "ES       0.000000\n",
       "EQT      0.000000\n",
       "ISRG     0.000000\n",
       "Length: 503, dtype: float64"
      ]
     },
     "execution_count": 9,
     "metadata": {},
     "output_type": "execute_result"
    }
   ],
   "source": [
    "#for every symbol count how many rows it has and how many nan values return the percentage of nan values\n",
    "\n",
    "nan_counts_by_symbol = df.groupby('Symbol').apply(lambda x: x.isna().sum())\n",
    "total_values_by_symbol = df.groupby('Symbol').count()  # Adjusting to count non-NaN values for accuracy\n",
    "\n",
    "# Calculating the percentage of NaN values correctly\n",
    "percentage_nan_by_symbol = nan_counts_by_symbol.div(total_values_by_symbol, axis=0).mean(axis=1)\n",
    "\n",
    "# Sorting by percentage of NaN values\n",
    "percentage_nan_by_symbol_sorted = percentage_nan_by_symbol.sort_values(ascending=False)\n",
    "\n",
    "percentage_nan_by_symbol_sorted"
   ]
  },
  {
   "cell_type": "code",
   "execution_count": 10,
   "metadata": {},
   "outputs": [
    {
     "name": "stdout",
     "output_type": "stream",
     "text": [
      "Symbol\n",
      "NEE     0.0\n",
      "PFE     0.0\n",
      "PFG     0.0\n",
      "PEP     0.0\n",
      "PCG     0.0\n",
      "       ... \n",
      "ETN     0.0\n",
      "ESS     0.0\n",
      "ES      0.0\n",
      "EQT     0.0\n",
      "ISRG    0.0\n",
      "Length: 438, dtype: float64\n"
     ]
    }
   ],
   "source": [
    "#print symbols with no nan values\n",
    "print(percentage_nan_by_symbol_sorted[percentage_nan_by_symbol_sorted == 0])"
   ]
  }
 ],
 "metadata": {
  "kernelspec": {
   "display_name": "BK",
   "language": "python",
   "name": "python3"
  },
  "language_info": {
   "codemirror_mode": {
    "name": "ipython",
    "version": 3
   },
   "file_extension": ".py",
   "mimetype": "text/x-python",
   "name": "python",
   "nbconvert_exporter": "python",
   "pygments_lexer": "ipython3",
   "version": "3.12.2"
  }
 },
 "nbformat": 4,
 "nbformat_minor": 2
}
