{
 "cells": [
  {
   "cell_type": "code",
   "execution_count": 2,
   "metadata": {},
   "outputs": [],
   "source": [
    "import pandas as pd\n",
    "import yfinance as yf\n",
    "from datetime import datetime\n",
    "import pandas_ta as ta\n",
    "import os"
   ]
  },
  {
   "cell_type": "code",
   "execution_count": 3,
   "metadata": {},
   "outputs": [],
   "source": [
    "def get_indicators(symbol, start, end):\n",
    "\n",
    "    # Indikatoren festlegen\n",
    "    momentum_indicators = [\"rsi\", \"macd\", \"stoch\", \"mom\", \"tsi\", \"adx\"]\n",
    "    volume_indicators = [\"obv\", \"vwap\", \"pvo\", \"ad\", \"mfi\", \"cmf\"]\n",
    "    volatility_indicators = [\"bbands\", \"atr\", \"kc\"] # Ichimoku separat wegen potenziellem Data Leakage\n",
    "    candlestick_patterns = [\"hammer\", \"morningstar\", \"hangingman\", \"darkcloudcover\", \"engulfing\", \"doji\"] # Patterns \"3whitesoldiers\" und \"3blackcrows\" sind zu selten, entfernt\n",
    "\n",
    "    # Stock Data laden\n",
    "    df = yf.download(symbol, start, end)\n",
    "\n",
    "    # Indikatoren berechnen\n",
    "    for momentum_indicator in momentum_indicators:\n",
    "        df.ta(kind=momentum_indicator, append=True)\n",
    "    \n",
    "    for volume_indicator in volume_indicators:\n",
    "        df.ta(kind=volume_indicator, append=True)\n",
    "    \n",
    "    for volatility_indicator in volatility_indicators:\n",
    "        df.ta(kind=volatility_indicator, append=True)\n",
    "\n",
    "    # Separat wegen Sub-Indikator mit potenziellem Data Leakage: 'ICS_26'\n",
    "    ichimoku = ta.ichimoku(high=df['High'], low=df['Low'], close=df['Close'], lookahead=False)\n",
    "    ichimoku_visible = ichimoku[0]\n",
    "    df = pd.concat([df, ichimoku_visible], axis=1)\n",
    "\n",
    "    # Candlestick Patterns\n",
    "    patterns_df = df.ta.cdl_pattern(name=candlestick_patterns) #cdl_pattern generiert separates df\n",
    "    df = pd.concat([df, patterns_df], axis=1)\n",
    "\n",
    "    # Binary Encoding der Candlestick Patterns\n",
    "    bullish_patterns = ['CDL_HAMMER', 'CDL_MORNINGSTAR'] # Werte sind 0 oder 100\n",
    "    bearish_patterns= ['CDL_HANGINGMAN', 'CDL_DARKCLOUDCOVER'] # Werte sind 0 oder -100\n",
    "    bull_bear_patterns = ['CDL_ENGULFING'] # Werte sind -100, 0, 100\n",
    "    continuation_patterns = ['CDL_DOJI_10_0.1'] # Werte sind 0 oder 100\n",
    "    candlestick_columns = bullish_patterns + bearish_patterns + bull_bear_patterns + continuation_patterns\n",
    "\n",
    "    for bullish_pattern in bullish_patterns:\n",
    "        df[f'{bullish_pattern}_bullish'] = (df[bullish_pattern] == 100).astype(int)\n",
    "\n",
    "    for bearish_pattern in bearish_patterns:\n",
    "        df[f'{bearish_pattern}_bearish'] = (df[bearish_pattern] == -100).astype(int)\n",
    "\n",
    "    for bull_bear_pattern in bull_bear_patterns:\n",
    "        df[f'{bull_bear_pattern}_bullish'] = (df[bull_bear_pattern] == 100).astype(int)\n",
    "        df[f'{bull_bear_pattern}_bearish'] = (df[bull_bear_pattern] == -100).astype(int)\n",
    "\n",
    "    for continuation_pattern in continuation_patterns:\n",
    "        df[f'{continuation_pattern}_continuation'] = (df[continuation_pattern] == 100).astype(int)\n",
    "\n",
    "    df.drop(columns=candlestick_columns, inplace=True) # ursprüngliche Candlestick Spalten nicht mehr nötig\n",
    "\n",
    "\n",
    "    return df\n",
    "\n",
    "\n",
    "def add_interest(df):\n",
    "    interest_path = os.path.join('data', 'DFF.csv')\n",
    "    interest_df = pd.read_csv(interest_path, sep=',', encoding='UTF-8', parse_dates=['DATE'], index_col='DATE')\n",
    "    df = pd.merge(df, interest_df, left_index=True, right_index=True) # Left-Join auf dem Index <-- Datum\n",
    "\n",
    "    return df\n",
    "\n",
    "\n",
    "def add_vix(df):\n",
    "    vix_path = os.path.join('data','VIX_History.csv')\n",
    "    vix_df = pd.read_csv(vix_path, sep=',', encoding='UTF-8', parse_dates=['DATE'], index_col='DATE')\n",
    "\n",
    "    vix_column_renaming = {\n",
    "        'OPEN':'VIX_open',\n",
    "        'CLOSE':'VIX_close',\n",
    "        'HIGH':'VIX_high',\n",
    "        'LOW':'VIX_low'\n",
    "    }\n",
    "    vix_df.rename(columns=vix_column_renaming, inplace=True)\n",
    "\n",
    "    # Berechnung absolute und relative Veränderung\n",
    "    vix_df['VIX_abs_change'] = vix_df['VIX_close'] - vix_df['VIX_open']\n",
    "    vix_df['VIX_rel_change'] = vix_df['VIX_abs_change'] / vix_df['VIX_open']\n",
    "\n",
    "    df = pd.merge(df, vix_df, left_index=True, right_index=True)\n",
    "\n",
    "    return df\n",
    "\n",
    "\n",
    "def add_s_p_500(df, start, end):\n",
    "    gspc_df = yf.download('^GSPC', start, end)\n",
    "    gspc_df.drop(columns=['Adj Close', 'Volume'], inplace=True)\n",
    "    gspc_column_renaming = {\n",
    "        'Open':'S_P_500_open',\n",
    "        'Close':'S_P_500_close',\n",
    "        'High':'S_P_500_high',\n",
    "        'Low':'S_P_500_low'\n",
    "    }\n",
    "    gspc_df.rename(columns=gspc_column_renaming, inplace=True)\n",
    "\n",
    "    # Berechnung absolute und relative Veränderung\n",
    "    gspc_df['S_P_500_abs_change'] = gspc_df['S_P_500_close'] - gspc_df['S_P_500_open']\n",
    "    gspc_df['S_P_rel_change'] = gspc_df['S_P_500_abs_change'] / gspc_df['S_P_500_open']\n",
    "\n",
    "    df = pd.merge(df, gspc_df, left_index=True, right_index=True)\n",
    "\n",
    "    return df\n",
    "\n",
    "\n",
    "def add_option_volume(df, stock):\n",
    "\n",
    "    stock = stock.replace('-', '') # Beispiel BRK-B -> BRKB\n",
    "\n",
    "    #######################\n",
    "    #       Monthly       #\n",
    "    #######################\n",
    "\n",
    "    # von 2003 bis Ende 2006 ist nur das durchschnittliche tägliche Optionsvolumen jedes Monats verfügbar\n",
    "    \n",
    "    # DataFrame erstellen, wo für jeden Monat das tägliche Durchschnittsvolumen in jeden Tag geschrieben wird\n",
    "    date_range = pd.date_range(start='2003-01-01', end='2006-12-31')\n",
    "    monthly_option_df = pd.DataFrame(index=date_range, columns=['Option Volume'])\n",
    "\n",
    "    options_path_monthly =os.path.join('data', 'options', 'monthly')\n",
    "\n",
    "    for year in range(2003, 2006+1):\n",
    "        year_str = str(year)\n",
    "\n",
    "        for month in range(1, 12+1):\n",
    "\n",
    "            month_str = str(month).zfill(2) # Null auffüllen wo nötig, beispiel '1' -> '01'\n",
    "\n",
    "            if year < 2013:  # Datenformat von 2003 bis 2012 ist .xls, danach .xlsx\n",
    "                file_extension = '.xls'\n",
    "            else:\n",
    "                file_extension = '.xlsx'\n",
    "            \n",
    "            file_name = f'{year}_{month_str}_rank_wosym{file_extension}'\n",
    "            specific_path = os.path.join(options_path_monthly, file_name)\n",
    "\n",
    "            options_df = pd.read_excel(specific_path) # Dependencies neben Pandas: openpyxl und xlrd <-- pip install\n",
    "\n",
    "            # Spalten werden anfangs klein geschrieben...\n",
    "            if year == 2003 or (year == 2004 and month in [1,2,3]):\n",
    "                symbol_column = 'symbol'\n",
    "            else:\n",
    "                symbol_column = 'Symbol'\n",
    "\n",
    "            average_daily_volume = options_df.loc[options_df[symbol_column] == stock, 'Tot ADV'].values\n",
    "\n",
    "            if len(average_daily_volume) > 0:  # Check if data exists for the stock in that month\n",
    "                # Fill 'Option Volume' column for the month with the extracted value\n",
    "                start_date = pd.Timestamp(f'{year}-{month_str}-01')\n",
    "                end_date = pd.Timestamp(start_date.year, start_date.month, start_date.days_in_month)\n",
    "                monthly_option_df.loc[start_date:end_date, 'Option Volume'] = average_daily_volume[0]\n",
    "\n",
    "\n",
    "    #######################\n",
    "    #        Daily        #\n",
    "    #######################\n",
    "\n",
    "    # Tägliches Optionsvolumen ab 2007 verfügbar\n",
    "    yearly_dfs = []\n",
    "    options_path_yearly = os.path.join('data', 'options', 'daily')\n",
    "\n",
    "    for year in range(2007, 2022+1):\n",
    "        year_str = str(year)\n",
    "        specific_path = os.path.join(options_path_yearly, f'daily_volume_{year_str}.csv')\n",
    "\n",
    "        options_df = pd.read_csv(specific_path, sep=',', encoding='UTF-8', parse_dates=['Trade Date'])\n",
    "\n",
    "        stock_df = options_df[options_df['Underlying'] == stock]\n",
    "\n",
    "        # Nach Datum gruppieren und anschliessend das Volumen der gruppierten Zeilen summieren\n",
    "        daily_volume_sum = stock_df.groupby('Trade Date')['Average Daily Volume'].sum().reset_index()\n",
    "\n",
    "        daily_volume_sum.rename(columns={'Average Daily Volume':'Option Volume'}, inplace=True)\n",
    "\n",
    "        yearly_dfs.append(daily_volume_sum)\n",
    "\n",
    "    daily_option_df = pd.concat(yearly_dfs, ignore_index=True)\n",
    "    daily_option_df.set_index('Trade Date', inplace=True)\n",
    "\n",
    "\n",
    "\n",
    "    #######################\n",
    "    #       Zusammen      #\n",
    "    #######################\n",
    "\n",
    "    option_df = pd.concat([monthly_option_df, daily_option_df])\n",
    "\n",
    "    df = pd.merge(df, option_df, left_index=True, right_index=True)\n",
    "\n",
    "    return df\n",
    "\n",
    "\n",
    "def add_yfinance(df, stock):\n",
    "    ticker = yf.Ticker(stock)\n",
    "    df['Symbol'] = stock\n",
    "    df['Sector'] = ticker.info['sector']\n",
    "    df['Industry'] = ticker.info['industry']\n",
    "\n",
    "    return df\n",
    "\n",
    "\n",
    "def add_change(df):\n",
    "    df['Absolute change'] = df['Close'] - df['Open']\n",
    "    df['Relative change'] = df['Absolute change'] / df['Open']\n",
    "\n",
    "    df.drop(columns=['Adj Close'], inplace=True)\n",
    "\n",
    "    return df\n",
    "\n",
    "\n",
    "def rearrange_columns(df):\n",
    "    columns = df.columns.tolist()\n",
    "\n",
    "    # Remove 'Absolute change' and 'Relative change' from their original positions\n",
    "    columns.remove('Absolute change')\n",
    "    columns.remove('Relative change')\n",
    "\n",
    "    # Insert 'Absolute change' and 'Relative change' at the 5th and 6th positions respectively\n",
    "    columns.insert(4, 'Absolute change')\n",
    "    columns.insert(5, 'Relative change')\n",
    "\n",
    "    # Reorder the columns in the DataFrame\n",
    "    df = df[columns]\n",
    "    return df\n",
    "\n",
    "\n",
    "def add_next_close(df):\n",
    "    df['Next close'] = df['Close'].shift(-1) # Zielvariable = Close des nächsten Tages\n",
    "    df.drop(df.tail(1).index, inplace=True) # Letze Zeile hat bei 'Next Close' NaN -> droppen\n",
    "    return df\n",
    "\n",
    "\n",
    "def save_df(df, stock, option_volume):\n",
    "\n",
    "    if option_volume:\n",
    "        folder_path = os.path.join('data', 'stock_dataframes_OV')\n",
    "    \n",
    "    else:\n",
    "        folder_path = os.path.join('data', 'stock_dataframes')\n",
    "\n",
    "    # Falls Ordner noch nicht besteht, erstellen\n",
    "    if not os.path.exists(folder_path):\n",
    "        os.makedirs(folder_path)    \n",
    "\n",
    "    file_path = os.path.join(folder_path, f'{stock}.csv')\n",
    "    df[77:].to_csv(file_path, index=True, index_label='Date') # Ab Zeile 77 wegen Einschwingphase einiger Indikatoren\n",
    "    \n",
    "\n",
    "def get_s_p_stocks(threshold):\n",
    "\n",
    "    s_p_path = os.path.join('data', 'sp500_companies.csv')\n",
    "    s_p_df = pd.read_csv(s_p_path, sep=',', encoding='UTF-8')\n",
    "    s_p_reduced = s_p_df[['Symbol', 'Weight']]\n",
    "\n",
    "    if threshold == 100:\n",
    "        relevant_stocks = s_p_reduced['Symbol'].tolist()\n",
    "        return relevant_stocks\n",
    "\n",
    "    weight_sum = 0\n",
    "    relevant_stocks = []\n",
    "\n",
    "    for i in range(s_p_reduced.shape[0]):\n",
    "        if weight_sum*100 >= threshold:\n",
    "            return relevant_stocks\n",
    "\n",
    "        weight_sum += s_p_reduced.iloc[i]['Weight']\n",
    "        relevant_stocks.append(s_p_reduced.iloc[i]['Symbol'])\n",
    "\n",
    "    return 'Something went wrong'\n",
    "\n",
    "\n",
    "def prepare_features(stock_symbol, option_volume=True):\n",
    "    end = datetime.strptime('2023-01-01', '%Y-%m-%d')\n",
    "    start = datetime(end.year - 20, end.month, end.day)\n",
    "\n",
    "    df = get_indicators(stock_symbol, start, end)\n",
    "    df = add_interest(df)\n",
    "    df = add_vix(df)\n",
    "    df = add_s_p_500(df, start, end)\n",
    "    if option_volume:\n",
    "        df = add_option_volume(df, stock_symbol)\n",
    "    df = add_yfinance(df, stock_symbol)\n",
    "    df = add_change(df)\n",
    "    df = rearrange_columns(df)\n",
    "    df = add_next_close(df)\n",
    "    save_df(df, stock_symbol, option_volume)\n",
    "\n",
    "    print(f'DataFrame for {stock_symbol} has been prepared and saved')\n",
    "\n",
    "\n",
    "def combine_stocks(save_file_name='combined_dataframe', return_df=False):\n",
    "    relevant_stocks = ['MSFT', 'AAPL', 'NVDA', 'GOOG', 'AMZN', 'BRK-B', 'LLY', 'JPM', 'XOM', 'WMT', 'UNH', 'MA', 'PG', 'JNJ', 'COST', 'HD', 'MRK', 'ORCL', 'CVX', 'BAC', 'KO', 'CRM', 'NFLX', 'PEP', 'AMD', 'TMO', 'ADBE', 'WFC', 'LIN', 'QCOM', 'CSCO', 'MCD', 'ACN', 'DIS', 'DHR', 'ABT', 'INTU', 'GE', 'CAT', 'AMAT', 'AXP', 'TXN', 'VZ', 'AMGN', 'PFE', 'MS', 'CMCSA', 'IBM', 'NEE', 'UNP']\n",
    "\n",
    "    stock_df_path = os.path.join('data', 'stock_dataframes')\n",
    "\n",
    "    all_stocks = []\n",
    "\n",
    "    for symbol in relevant_stocks:\n",
    "        file_path = os.path.join(stock_df_path, f'{symbol}.csv')\n",
    "        stock_df = pd.read_csv(file_path, index_col='Date', parse_dates=True)\n",
    "        all_stocks.append(stock_df)\n",
    "\n",
    "    # Alle DataFrames zusammenführen\n",
    "    big_df = pd.concat(all_stocks)\n",
    "\n",
    "    print('Checking for NaN Values...')\n",
    "    for column in big_df.columns:\n",
    "        nan_sum = big_df[column].isna().sum()\n",
    "        if nan_sum > 0:\n",
    "            print(f'Column {column} has {nan_sum} NaN Values')\n",
    "\n",
    "    old_shape = big_df.shape\n",
    "    big_df.dropna(subset=['VWAP_D'], inplace=True)\n",
    "    print(f'Dropped {old_shape[0] - big_df.shape[0]} rows. (1 is the bugged AMD row)')\n",
    "\n",
    "    # Nach Datum sortieren\n",
    "    # big_df.sort_values(by=['Date'], inplace=True)\n",
    "    big_df.sort_values(by=['Date', 'Symbol'], inplace=True)\n",
    "\n",
    "    # One-Hot Encoding\n",
    "    # 10 Sektoren zu Spalten. Die 30 Sub-Sektoren ('Industry') wären zu viel\n",
    "    one_hot_encoded = pd.get_dummies(big_df['Sector'], prefix='Sector')\n",
    "    one_hot_encoded_numeric = one_hot_encoded.astype(int)\n",
    "    big_df = pd.concat([big_df, one_hot_encoded_numeric], axis=1)\n",
    "    big_df.drop(columns=['Sector', 'Industry'], inplace=True)\n",
    "\n",
    "    # Zielvariable 'Next close' als letzte Spalte\n",
    "    column_list = big_df.columns.tolist()\n",
    "    column_list.remove('Next close')\n",
    "    column_list.append('Next close')\n",
    "    big_df = big_df[column_list]\n",
    "\n",
    "    save_path = os.path.join('data', 'ML_data')\n",
    "    # Falls Ordner noch nicht besteht, erstellen\n",
    "    if not os.path.exists(save_path):\n",
    "        os.makedirs(save_path)\n",
    "    save_file_path = os.path.join(save_path, f'{save_file_name}.csv')\n",
    "    big_df.to_csv(save_file_path, index=True)\n",
    "    print(f'Saved DataFrame as {save_file_name}.csv at path {save_file_path}')\n",
    "\n",
    "    if return_df:\n",
    "        return big_df\n",
    "\n"
   ]
  },
  {
   "cell_type": "code",
   "execution_count": 3,
   "metadata": {},
   "outputs": [
    {
     "name": "stderr",
     "output_type": "stream",
     "text": [
      "[*********************100%%**********************]  1 of 1 completed\n",
      "[*********************100%%**********************]  1 of 1 completed\n"
     ]
    },
    {
     "data": {
      "text/html": [
       "<div>\n",
       "<style scoped>\n",
       "    .dataframe tbody tr th:only-of-type {\n",
       "        vertical-align: middle;\n",
       "    }\n",
       "\n",
       "    .dataframe tbody tr th {\n",
       "        vertical-align: top;\n",
       "    }\n",
       "\n",
       "    .dataframe thead th {\n",
       "        text-align: right;\n",
       "    }\n",
       "</style>\n",
       "<table border=\"1\" class=\"dataframe\">\n",
       "  <thead>\n",
       "    <tr style=\"text-align: right;\">\n",
       "      <th></th>\n",
       "      <th>Open</th>\n",
       "      <th>High</th>\n",
       "      <th>Low</th>\n",
       "      <th>Close</th>\n",
       "      <th>Absolute change</th>\n",
       "      <th>Relative change</th>\n",
       "      <th>Volume</th>\n",
       "      <th>RSI_14</th>\n",
       "      <th>MACD_12_26_9</th>\n",
       "      <th>MACDh_12_26_9</th>\n",
       "      <th>...</th>\n",
       "      <th>S_P_500_high</th>\n",
       "      <th>S_P_500_low</th>\n",
       "      <th>S_P_500_close</th>\n",
       "      <th>S_P_500_abs_change</th>\n",
       "      <th>S_P_rel_change</th>\n",
       "      <th>Option Volume</th>\n",
       "      <th>Symbol</th>\n",
       "      <th>Sector</th>\n",
       "      <th>Industry</th>\n",
       "      <th>Next close</th>\n",
       "    </tr>\n",
       "  </thead>\n",
       "  <tbody>\n",
       "    <tr>\n",
       "      <th>2003-01-02</th>\n",
       "      <td>0.256429</td>\n",
       "      <td>0.266429</td>\n",
       "      <td>0.256250</td>\n",
       "      <td>0.264286</td>\n",
       "      <td>0.007857</td>\n",
       "      <td>0.030640</td>\n",
       "      <td>181428800</td>\n",
       "      <td>NaN</td>\n",
       "      <td>NaN</td>\n",
       "      <td>NaN</td>\n",
       "      <td>...</td>\n",
       "      <td>909.030029</td>\n",
       "      <td>879.820007</td>\n",
       "      <td>909.030029</td>\n",
       "      <td>29.210022</td>\n",
       "      <td>0.033200</td>\n",
       "      <td>1133.619048</td>\n",
       "      <td>AAPL</td>\n",
       "      <td>Technology</td>\n",
       "      <td>Consumer Electronics</td>\n",
       "      <td>0.266071</td>\n",
       "    </tr>\n",
       "    <tr>\n",
       "      <th>2003-01-03</th>\n",
       "      <td>0.264286</td>\n",
       "      <td>0.266607</td>\n",
       "      <td>0.260536</td>\n",
       "      <td>0.266071</td>\n",
       "      <td>0.001785</td>\n",
       "      <td>0.006754</td>\n",
       "      <td>147453600</td>\n",
       "      <td>NaN</td>\n",
       "      <td>NaN</td>\n",
       "      <td>NaN</td>\n",
       "      <td>...</td>\n",
       "      <td>911.250000</td>\n",
       "      <td>903.070007</td>\n",
       "      <td>908.590027</td>\n",
       "      <td>-0.440002</td>\n",
       "      <td>-0.000484</td>\n",
       "      <td>1133.619048</td>\n",
       "      <td>AAPL</td>\n",
       "      <td>Technology</td>\n",
       "      <td>Consumer Electronics</td>\n",
       "      <td>0.266071</td>\n",
       "    </tr>\n",
       "    <tr>\n",
       "      <th>2003-01-06</th>\n",
       "      <td>0.268393</td>\n",
       "      <td>0.274643</td>\n",
       "      <td>0.265714</td>\n",
       "      <td>0.266071</td>\n",
       "      <td>-0.002322</td>\n",
       "      <td>-0.008652</td>\n",
       "      <td>390532800</td>\n",
       "      <td>NaN</td>\n",
       "      <td>NaN</td>\n",
       "      <td>NaN</td>\n",
       "      <td>...</td>\n",
       "      <td>931.770020</td>\n",
       "      <td>908.590027</td>\n",
       "      <td>929.010010</td>\n",
       "      <td>20.419983</td>\n",
       "      <td>0.022474</td>\n",
       "      <td>1133.619048</td>\n",
       "      <td>AAPL</td>\n",
       "      <td>Technology</td>\n",
       "      <td>Consumer Electronics</td>\n",
       "      <td>0.265179</td>\n",
       "    </tr>\n",
       "    <tr>\n",
       "      <th>2003-01-07</th>\n",
       "      <td>0.264107</td>\n",
       "      <td>0.267857</td>\n",
       "      <td>0.258393</td>\n",
       "      <td>0.265179</td>\n",
       "      <td>0.001072</td>\n",
       "      <td>0.004059</td>\n",
       "      <td>342344800</td>\n",
       "      <td>NaN</td>\n",
       "      <td>NaN</td>\n",
       "      <td>NaN</td>\n",
       "      <td>...</td>\n",
       "      <td>930.809998</td>\n",
       "      <td>919.929993</td>\n",
       "      <td>922.929993</td>\n",
       "      <td>-6.080017</td>\n",
       "      <td>-0.006545</td>\n",
       "      <td>1133.619048</td>\n",
       "      <td>AAPL</td>\n",
       "      <td>Technology</td>\n",
       "      <td>Consumer Electronics</td>\n",
       "      <td>0.259821</td>\n",
       "    </tr>\n",
       "    <tr>\n",
       "      <th>2003-01-08</th>\n",
       "      <td>0.260357</td>\n",
       "      <td>0.262679</td>\n",
       "      <td>0.257857</td>\n",
       "      <td>0.259821</td>\n",
       "      <td>-0.000536</td>\n",
       "      <td>-0.002059</td>\n",
       "      <td>229644800</td>\n",
       "      <td>NaN</td>\n",
       "      <td>NaN</td>\n",
       "      <td>NaN</td>\n",
       "      <td>...</td>\n",
       "      <td>922.929993</td>\n",
       "      <td>908.320007</td>\n",
       "      <td>909.929993</td>\n",
       "      <td>-13.000000</td>\n",
       "      <td>-0.014086</td>\n",
       "      <td>1133.619048</td>\n",
       "      <td>AAPL</td>\n",
       "      <td>Technology</td>\n",
       "      <td>Consumer Electronics</td>\n",
       "      <td>0.262143</td>\n",
       "    </tr>\n",
       "    <tr>\n",
       "      <th>...</th>\n",
       "      <td>...</td>\n",
       "      <td>...</td>\n",
       "      <td>...</td>\n",
       "      <td>...</td>\n",
       "      <td>...</td>\n",
       "      <td>...</td>\n",
       "      <td>...</td>\n",
       "      <td>...</td>\n",
       "      <td>...</td>\n",
       "      <td>...</td>\n",
       "      <td>...</td>\n",
       "      <td>...</td>\n",
       "      <td>...</td>\n",
       "      <td>...</td>\n",
       "      <td>...</td>\n",
       "      <td>...</td>\n",
       "      <td>...</td>\n",
       "      <td>...</td>\n",
       "      <td>...</td>\n",
       "      <td>...</td>\n",
       "      <td>...</td>\n",
       "    </tr>\n",
       "    <tr>\n",
       "      <th>2006-12-29</th>\n",
       "      <td>2.998214</td>\n",
       "      <td>3.050000</td>\n",
       "      <td>2.977143</td>\n",
       "      <td>3.030000</td>\n",
       "      <td>0.031786</td>\n",
       "      <td>0.010602</td>\n",
       "      <td>1076429200</td>\n",
       "      <td>48.895450</td>\n",
       "      <td>-0.035800</td>\n",
       "      <td>-0.026991</td>\n",
       "      <td>...</td>\n",
       "      <td>1427.000000</td>\n",
       "      <td>1416.839966</td>\n",
       "      <td>1418.300049</td>\n",
       "      <td>-6.409912</td>\n",
       "      <td>-0.004499</td>\n",
       "      <td>47047.9</td>\n",
       "      <td>AAPL</td>\n",
       "      <td>Technology</td>\n",
       "      <td>Consumer Electronics</td>\n",
       "      <td>2.992857</td>\n",
       "    </tr>\n",
       "    <tr>\n",
       "      <th>2007-01-03</th>\n",
       "      <td>3.081786</td>\n",
       "      <td>3.092143</td>\n",
       "      <td>2.925000</td>\n",
       "      <td>2.992857</td>\n",
       "      <td>-0.088929</td>\n",
       "      <td>-0.028856</td>\n",
       "      <td>1238319600</td>\n",
       "      <td>46.073142</td>\n",
       "      <td>-0.034354</td>\n",
       "      <td>-0.020436</td>\n",
       "      <td>...</td>\n",
       "      <td>1429.420044</td>\n",
       "      <td>1407.859985</td>\n",
       "      <td>1416.599976</td>\n",
       "      <td>-1.430054</td>\n",
       "      <td>-0.001008</td>\n",
       "      <td>70418</td>\n",
       "      <td>AAPL</td>\n",
       "      <td>Technology</td>\n",
       "      <td>Consumer Electronics</td>\n",
       "      <td>3.059286</td>\n",
       "    </tr>\n",
       "    <tr>\n",
       "      <th>2007-01-04</th>\n",
       "      <td>3.001786</td>\n",
       "      <td>3.069643</td>\n",
       "      <td>2.993571</td>\n",
       "      <td>3.059286</td>\n",
       "      <td>0.057500</td>\n",
       "      <td>0.019155</td>\n",
       "      <td>847260400</td>\n",
       "      <td>51.468565</td>\n",
       "      <td>-0.027530</td>\n",
       "      <td>-0.010890</td>\n",
       "      <td>...</td>\n",
       "      <td>1421.839966</td>\n",
       "      <td>1408.430054</td>\n",
       "      <td>1418.339966</td>\n",
       "      <td>1.739990</td>\n",
       "      <td>0.001228</td>\n",
       "      <td>41805</td>\n",
       "      <td>AAPL</td>\n",
       "      <td>Technology</td>\n",
       "      <td>Consumer Electronics</td>\n",
       "      <td>3.037500</td>\n",
       "    </tr>\n",
       "    <tr>\n",
       "      <th>2007-01-05</th>\n",
       "      <td>3.063214</td>\n",
       "      <td>3.078571</td>\n",
       "      <td>3.014286</td>\n",
       "      <td>3.037500</td>\n",
       "      <td>-0.025714</td>\n",
       "      <td>-0.008395</td>\n",
       "      <td>834741600</td>\n",
       "      <td>49.711902</td>\n",
       "      <td>-0.023608</td>\n",
       "      <td>-0.005574</td>\n",
       "      <td>...</td>\n",
       "      <td>1418.339966</td>\n",
       "      <td>1405.750000</td>\n",
       "      <td>1409.709961</td>\n",
       "      <td>-8.630005</td>\n",
       "      <td>-0.006085</td>\n",
       "      <td>42297</td>\n",
       "      <td>AAPL</td>\n",
       "      <td>Technology</td>\n",
       "      <td>Consumer Electronics</td>\n",
       "      <td>3.052500</td>\n",
       "    </tr>\n",
       "    <tr>\n",
       "      <th>2007-01-08</th>\n",
       "      <td>3.070000</td>\n",
       "      <td>3.090357</td>\n",
       "      <td>3.045714</td>\n",
       "      <td>3.052500</td>\n",
       "      <td>-0.017500</td>\n",
       "      <td>-0.005700</td>\n",
       "      <td>797106800</td>\n",
       "      <td>50.953139</td>\n",
       "      <td>-0.019070</td>\n",
       "      <td>-0.000829</td>\n",
       "      <td>...</td>\n",
       "      <td>1414.979980</td>\n",
       "      <td>1403.969971</td>\n",
       "      <td>1412.839966</td>\n",
       "      <td>3.579956</td>\n",
       "      <td>0.002540</td>\n",
       "      <td>51990</td>\n",
       "      <td>AAPL</td>\n",
       "      <td>Technology</td>\n",
       "      <td>Consumer Electronics</td>\n",
       "      <td>3.306071</td>\n",
       "    </tr>\n",
       "  </tbody>\n",
       "</table>\n",
       "<p>1010 rows × 65 columns</p>\n",
       "</div>"
      ],
      "text/plain": [
       "                Open      High       Low     Close  Absolute change  \\\n",
       "2003-01-02  0.256429  0.266429  0.256250  0.264286         0.007857   \n",
       "2003-01-03  0.264286  0.266607  0.260536  0.266071         0.001785   \n",
       "2003-01-06  0.268393  0.274643  0.265714  0.266071        -0.002322   \n",
       "2003-01-07  0.264107  0.267857  0.258393  0.265179         0.001072   \n",
       "2003-01-08  0.260357  0.262679  0.257857  0.259821        -0.000536   \n",
       "...              ...       ...       ...       ...              ...   \n",
       "2006-12-29  2.998214  3.050000  2.977143  3.030000         0.031786   \n",
       "2007-01-03  3.081786  3.092143  2.925000  2.992857        -0.088929   \n",
       "2007-01-04  3.001786  3.069643  2.993571  3.059286         0.057500   \n",
       "2007-01-05  3.063214  3.078571  3.014286  3.037500        -0.025714   \n",
       "2007-01-08  3.070000  3.090357  3.045714  3.052500        -0.017500   \n",
       "\n",
       "            Relative change      Volume     RSI_14  MACD_12_26_9  \\\n",
       "2003-01-02         0.030640   181428800        NaN           NaN   \n",
       "2003-01-03         0.006754   147453600        NaN           NaN   \n",
       "2003-01-06        -0.008652   390532800        NaN           NaN   \n",
       "2003-01-07         0.004059   342344800        NaN           NaN   \n",
       "2003-01-08        -0.002059   229644800        NaN           NaN   \n",
       "...                     ...         ...        ...           ...   \n",
       "2006-12-29         0.010602  1076429200  48.895450     -0.035800   \n",
       "2007-01-03        -0.028856  1238319600  46.073142     -0.034354   \n",
       "2007-01-04         0.019155   847260400  51.468565     -0.027530   \n",
       "2007-01-05        -0.008395   834741600  49.711902     -0.023608   \n",
       "2007-01-08        -0.005700   797106800  50.953139     -0.019070   \n",
       "\n",
       "            MACDh_12_26_9  ...  S_P_500_high  S_P_500_low  S_P_500_close  \\\n",
       "2003-01-02            NaN  ...    909.030029   879.820007     909.030029   \n",
       "2003-01-03            NaN  ...    911.250000   903.070007     908.590027   \n",
       "2003-01-06            NaN  ...    931.770020   908.590027     929.010010   \n",
       "2003-01-07            NaN  ...    930.809998   919.929993     922.929993   \n",
       "2003-01-08            NaN  ...    922.929993   908.320007     909.929993   \n",
       "...                   ...  ...           ...          ...            ...   \n",
       "2006-12-29      -0.026991  ...   1427.000000  1416.839966    1418.300049   \n",
       "2007-01-03      -0.020436  ...   1429.420044  1407.859985    1416.599976   \n",
       "2007-01-04      -0.010890  ...   1421.839966  1408.430054    1418.339966   \n",
       "2007-01-05      -0.005574  ...   1418.339966  1405.750000    1409.709961   \n",
       "2007-01-08      -0.000829  ...   1414.979980  1403.969971    1412.839966   \n",
       "\n",
       "            S_P_500_abs_change  S_P_rel_change  Option Volume  Symbol  \\\n",
       "2003-01-02           29.210022        0.033200    1133.619048    AAPL   \n",
       "2003-01-03           -0.440002       -0.000484    1133.619048    AAPL   \n",
       "2003-01-06           20.419983        0.022474    1133.619048    AAPL   \n",
       "2003-01-07           -6.080017       -0.006545    1133.619048    AAPL   \n",
       "2003-01-08          -13.000000       -0.014086    1133.619048    AAPL   \n",
       "...                        ...             ...            ...     ...   \n",
       "2006-12-29           -6.409912       -0.004499        47047.9    AAPL   \n",
       "2007-01-03           -1.430054       -0.001008          70418    AAPL   \n",
       "2007-01-04            1.739990        0.001228          41805    AAPL   \n",
       "2007-01-05           -8.630005       -0.006085          42297    AAPL   \n",
       "2007-01-08            3.579956        0.002540          51990    AAPL   \n",
       "\n",
       "                Sector              Industry  Next close  \n",
       "2003-01-02  Technology  Consumer Electronics    0.266071  \n",
       "2003-01-03  Technology  Consumer Electronics    0.266071  \n",
       "2003-01-06  Technology  Consumer Electronics    0.265179  \n",
       "2003-01-07  Technology  Consumer Electronics    0.259821  \n",
       "2003-01-08  Technology  Consumer Electronics    0.262143  \n",
       "...                ...                   ...         ...  \n",
       "2006-12-29  Technology  Consumer Electronics    2.992857  \n",
       "2007-01-03  Technology  Consumer Electronics    3.059286  \n",
       "2007-01-04  Technology  Consumer Electronics    3.037500  \n",
       "2007-01-05  Technology  Consumer Electronics    3.052500  \n",
       "2007-01-08  Technology  Consumer Electronics    3.306071  \n",
       "\n",
       "[1010 rows x 65 columns]"
      ]
     },
     "execution_count": 3,
     "metadata": {},
     "output_type": "execute_result"
    }
   ],
   "source": [
    "end = datetime.strptime('2023-01-01', '%Y-%m-%d')\n",
    "start = datetime(end.year - 20, end.month, end.day)\n",
    "\n",
    "aapl_df = get_indicators('AAPL', start, end)\n",
    "aapl_df = add_interest(aapl_df)\n",
    "aapl_df = add_vix(aapl_df)\n",
    "aapl_df = add_s_p_500(aapl_df, start, end)\n",
    "aapl_df = add_option_volume(aapl_df, 'AAPL')\n",
    "aapl_df = add_yfinance(aapl_df, 'AAPL')\n",
    "aapl_df = add_change(aapl_df)\n",
    "aapl_df = rearrange_columns(aapl_df)\n",
    "aapl_df = add_next_close(aapl_df)\n",
    "# save_df(aapl_df, 'AAPL')\n",
    "\n",
    "aapl_df.head(1010)\n",
    "# aapl_df[['Close', 'Next close']].tail(1010)"
   ]
  },
  {
   "cell_type": "code",
   "execution_count": 4,
   "metadata": {},
   "outputs": [
    {
     "data": {
      "text/plain": [
       "Index(['Open', 'High', 'Low', 'Close', 'Absolute change', 'Relative change',\n",
       "       'Volume', 'RSI_14', 'MACD_12_26_9', 'MACDh_12_26_9', 'MACDs_12_26_9',\n",
       "       'STOCHk_14_3_3', 'STOCHd_14_3_3', 'MOM_10', 'TSI_13_25_13',\n",
       "       'TSIs_13_25_13', 'ADX_14', 'DMP_14', 'DMN_14', 'OBV', 'VWAP_D',\n",
       "       'PVO_12_26_9', 'PVOh_12_26_9', 'PVOs_12_26_9', 'AD', 'MFI_14', 'CMF_20',\n",
       "       'BBL_5_2.0', 'BBM_5_2.0', 'BBU_5_2.0', 'BBB_5_2.0', 'BBP_5_2.0',\n",
       "       'ATRr_14', 'KCLe_20_2', 'KCBe_20_2', 'KCUe_20_2', 'ISA_9', 'ISB_26',\n",
       "       'ITS_9', 'IKS_26', 'CDL_HAMMER_bullish', 'CDL_MORNINGSTAR_bullish',\n",
       "       'CDL_HANGINGMAN_bearish', 'CDL_DARKCLOUDCOVER_bearish',\n",
       "       'CDL_ENGULFING_bullish', 'CDL_ENGULFING_bearish',\n",
       "       'CDL_DOJI_10_0.1_continuation', 'DFF', 'VIX_open', 'VIX_high',\n",
       "       'VIX_low', 'VIX_close', 'VIX_abs_change', 'VIX_rel_change',\n",
       "       'S_P_500_open', 'S_P_500_high', 'S_P_500_low', 'S_P_500_close',\n",
       "       'S_P_500_abs_change', 'S_P_rel_change', 'Option Volume', 'Symbol',\n",
       "       'Sector', 'Industry', 'Next close'],\n",
       "      dtype='object')"
      ]
     },
     "execution_count": 4,
     "metadata": {},
     "output_type": "execute_result"
    }
   ],
   "source": [
    "aapl_df.columns"
   ]
  },
  {
   "cell_type": "code",
   "execution_count": 5,
   "metadata": {},
   "outputs": [
    {
     "data": {
      "text/plain": [
       "(5033, 65)"
      ]
     },
     "execution_count": 5,
     "metadata": {},
     "output_type": "execute_result"
    }
   ],
   "source": [
    "aapl_df.shape"
   ]
  },
  {
   "cell_type": "code",
   "execution_count": 6,
   "metadata": {},
   "outputs": [
    {
     "name": "stdout",
     "output_type": "stream",
     "text": [
      "Open 0\n",
      "High 0\n",
      "Low 0\n",
      "Close 0\n",
      "Absolute change 0\n",
      "Relative change 0\n",
      "Volume 0\n",
      "RSI_14 14\n",
      "MACD_12_26_9 33\n",
      "MACDh_12_26_9 33\n",
      "MACDs_12_26_9 33\n",
      "STOCHk_14_3_3 15\n",
      "STOCHd_14_3_3 17\n",
      "MOM_10 10\n",
      "TSI_13_25_13 37\n",
      "TSIs_13_25_13 49\n",
      "ADX_14 27\n",
      "DMP_14 14\n",
      "DMN_14 14\n",
      "OBV 0\n",
      "VWAP_D 0\n",
      "PVO_12_26_9 25\n",
      "PVOh_12_26_9 33\n",
      "PVOs_12_26_9 33\n",
      "AD 0\n",
      "MFI_14 14\n",
      "CMF_20 19\n",
      "BBL_5_2.0 4\n",
      "BBM_5_2.0 4\n",
      "BBU_5_2.0 4\n",
      "BBB_5_2.0 4\n",
      "BBP_5_2.0 4\n",
      "ATRr_14 14\n",
      "KCLe_20_2 20\n",
      "KCBe_20_2 19\n",
      "KCUe_20_2 20\n",
      "ISA_9 51\n",
      "ISB_26 77\n",
      "ITS_9 8\n",
      "IKS_26 25\n",
      "CDL_HAMMER_bullish 0\n",
      "CDL_MORNINGSTAR_bullish 0\n",
      "CDL_HANGINGMAN_bearish 0\n",
      "CDL_DARKCLOUDCOVER_bearish 0\n",
      "CDL_ENGULFING_bullish 0\n",
      "CDL_ENGULFING_bearish 0\n",
      "CDL_DOJI_10_0.1_continuation 0\n",
      "DFF 0\n",
      "VIX_open 0\n",
      "VIX_high 0\n",
      "VIX_low 0\n",
      "VIX_close 0\n",
      "VIX_abs_change 0\n",
      "VIX_rel_change 0\n",
      "S_P_500_open 0\n",
      "S_P_500_high 0\n",
      "S_P_500_low 0\n",
      "S_P_500_close 0\n",
      "S_P_500_abs_change 0\n",
      "S_P_rel_change 0\n",
      "Option Volume 0\n",
      "Symbol 0\n",
      "Sector 0\n",
      "Industry 0\n",
      "Next close 0\n"
     ]
    }
   ],
   "source": [
    "for column in aapl_df.columns:\n",
    "    print(column, aapl_df[column].isna().sum())"
   ]
  },
  {
   "cell_type": "code",
   "execution_count": 7,
   "metadata": {},
   "outputs": [
    {
     "name": "stderr",
     "output_type": "stream",
     "text": [
      "[*********************100%%**********************]  1 of 1 completed\n",
      "[*********************100%%**********************]  1 of 1 completed\n"
     ]
    },
    {
     "name": "stdout",
     "output_type": "stream",
     "text": [
      "DataFrame for AAPL has been prepared and saved\n"
     ]
    }
   ],
   "source": [
    "prepare_features('AAPL', option_volume=False)"
   ]
  },
  {
   "cell_type": "code",
   "execution_count": 8,
   "metadata": {},
   "outputs": [
    {
     "data": {
      "text/plain": [
       "['MSFT',\n",
       " 'AAPL',\n",
       " 'NVDA',\n",
       " 'GOOG',\n",
       " 'GOOGL',\n",
       " 'AMZN',\n",
       " 'META',\n",
       " 'BRK-B',\n",
       " 'LLY',\n",
       " 'AVGO',\n",
       " 'V',\n",
       " 'JPM',\n",
       " 'TSLA',\n",
       " 'XOM',\n",
       " 'WMT',\n",
       " 'UNH',\n",
       " 'MA',\n",
       " 'PG',\n",
       " 'JNJ',\n",
       " 'COST',\n",
       " 'HD',\n",
       " 'MRK',\n",
       " 'ORCL',\n",
       " 'CVX',\n",
       " 'BAC',\n",
       " 'ABBV',\n",
       " 'KO',\n",
       " 'CRM',\n",
       " 'NFLX',\n",
       " 'PEP',\n",
       " 'AMD',\n",
       " 'TMO',\n",
       " 'ADBE',\n",
       " 'WFC',\n",
       " 'LIN',\n",
       " 'QCOM',\n",
       " 'CSCO',\n",
       " 'MCD',\n",
       " 'ACN',\n",
       " 'DIS',\n",
       " 'TMUS',\n",
       " 'DHR',\n",
       " 'ABT',\n",
       " 'INTU',\n",
       " 'GE',\n",
       " 'CAT',\n",
       " 'AMAT',\n",
       " 'AXP',\n",
       " 'TXN',\n",
       " 'VZ']"
      ]
     },
     "execution_count": 8,
     "metadata": {},
     "output_type": "execute_result"
    }
   ],
   "source": [
    "selected_stocks = get_s_p_stocks(60)\n",
    "selected_stocks\n",
    "# len(selected_stocks)"
   ]
  },
  {
   "cell_type": "code",
   "execution_count": 9,
   "metadata": {},
   "outputs": [
    {
     "name": "stderr",
     "output_type": "stream",
     "text": [
      "[*********************100%%**********************]  1 of 1 completed\n",
      "[*********************100%%**********************]  1 of 1 completed\n",
      "[*********************100%%**********************]  1 of 1 completed"
     ]
    },
    {
     "name": "stdout",
     "output_type": "stream",
     "text": [
      "DataFrame for MSFT has been prepared and saved\n"
     ]
    },
    {
     "name": "stderr",
     "output_type": "stream",
     "text": [
      "\n",
      "[*********************100%%**********************]  1 of 1 completed\n"
     ]
    },
    {
     "name": "stdout",
     "output_type": "stream",
     "text": [
      "DataFrame for AAPL has been prepared and saved\n"
     ]
    },
    {
     "name": "stderr",
     "output_type": "stream",
     "text": [
      "[*********************100%%**********************]  1 of 1 completed\n",
      "[*********************100%%**********************]  1 of 1 completed\n",
      "[*********************100%%**********************]  1 of 1 completed"
     ]
    },
    {
     "name": "stdout",
     "output_type": "stream",
     "text": [
      "DataFrame for NVDA has been prepared and saved\n"
     ]
    },
    {
     "name": "stderr",
     "output_type": "stream",
     "text": [
      "\n",
      "[*********************100%%**********************]  1 of 1 completed\n"
     ]
    },
    {
     "name": "stdout",
     "output_type": "stream",
     "text": [
      "DataFrame for GOOG has been prepared and saved\n"
     ]
    },
    {
     "name": "stderr",
     "output_type": "stream",
     "text": [
      "[*********************100%%**********************]  1 of 1 completed\n",
      "[*********************100%%**********************]  1 of 1 completed\n"
     ]
    },
    {
     "name": "stdout",
     "output_type": "stream",
     "text": [
      "DataFrame for GOOGL has been prepared and saved\n"
     ]
    },
    {
     "name": "stderr",
     "output_type": "stream",
     "text": [
      "[*********************100%%**********************]  1 of 1 completed\n",
      "[*********************100%%**********************]  1 of 1 completed\n",
      "[*********************100%%**********************]  1 of 1 completed"
     ]
    },
    {
     "name": "stdout",
     "output_type": "stream",
     "text": [
      "DataFrame for AMZN has been prepared and saved\n"
     ]
    },
    {
     "name": "stderr",
     "output_type": "stream",
     "text": [
      "\n",
      "[*********************100%%**********************]  1 of 1 completed\n",
      "[*********************100%%**********************]  1 of 1 completed"
     ]
    },
    {
     "name": "stdout",
     "output_type": "stream",
     "text": [
      "DataFrame for META has been prepared and saved\n"
     ]
    },
    {
     "name": "stderr",
     "output_type": "stream",
     "text": [
      "\n",
      "[*********************100%%**********************]  1 of 1 completed\n"
     ]
    },
    {
     "name": "stdout",
     "output_type": "stream",
     "text": [
      "DataFrame for BRK-B has been prepared and saved\n"
     ]
    },
    {
     "name": "stderr",
     "output_type": "stream",
     "text": [
      "[*********************100%%**********************]  1 of 1 completed\n",
      "[*********************100%%**********************]  1 of 1 completed\n"
     ]
    },
    {
     "name": "stdout",
     "output_type": "stream",
     "text": [
      "DataFrame for LLY has been prepared and saved\n"
     ]
    },
    {
     "name": "stderr",
     "output_type": "stream",
     "text": [
      "[*********************100%%**********************]  1 of 1 completed\n",
      "[*********************100%%**********************]  1 of 1 completed\n"
     ]
    },
    {
     "name": "stdout",
     "output_type": "stream",
     "text": [
      "DataFrame for AVGO has been prepared and saved\n"
     ]
    },
    {
     "name": "stderr",
     "output_type": "stream",
     "text": [
      "[*********************100%%**********************]  1 of 1 completed\n",
      "[*********************100%%**********************]  1 of 1 completed\n"
     ]
    },
    {
     "name": "stdout",
     "output_type": "stream",
     "text": [
      "DataFrame for V has been prepared and saved\n"
     ]
    },
    {
     "name": "stderr",
     "output_type": "stream",
     "text": [
      "[*********************100%%**********************]  1 of 1 completed\n",
      "[*********************100%%**********************]  1 of 1 completed\n",
      "[*********************100%%**********************]  1 of 1 completed"
     ]
    },
    {
     "name": "stdout",
     "output_type": "stream",
     "text": [
      "DataFrame for JPM has been prepared and saved\n"
     ]
    },
    {
     "name": "stderr",
     "output_type": "stream",
     "text": [
      "\n",
      "[*********************100%%**********************]  1 of 1 completed\n"
     ]
    },
    {
     "name": "stdout",
     "output_type": "stream",
     "text": [
      "DataFrame for TSLA has been prepared and saved\n"
     ]
    },
    {
     "name": "stderr",
     "output_type": "stream",
     "text": [
      "[*********************100%%**********************]  1 of 1 completed\n",
      "[*********************100%%**********************]  1 of 1 completed\n"
     ]
    },
    {
     "name": "stdout",
     "output_type": "stream",
     "text": [
      "DataFrame for XOM has been prepared and saved\n"
     ]
    },
    {
     "name": "stderr",
     "output_type": "stream",
     "text": [
      "[*********************100%%**********************]  1 of 1 completed\n",
      "[*********************100%%**********************]  1 of 1 completed\n"
     ]
    },
    {
     "name": "stdout",
     "output_type": "stream",
     "text": [
      "DataFrame for WMT has been prepared and saved\n"
     ]
    },
    {
     "name": "stderr",
     "output_type": "stream",
     "text": [
      "[*********************100%%**********************]  1 of 1 completed\n",
      "[*********************100%%**********************]  1 of 1 completed\n"
     ]
    },
    {
     "name": "stdout",
     "output_type": "stream",
     "text": [
      "DataFrame for UNH has been prepared and saved\n"
     ]
    },
    {
     "name": "stderr",
     "output_type": "stream",
     "text": [
      "[*********************100%%**********************]  1 of 1 completed\n",
      "[*********************100%%**********************]  1 of 1 completed\n"
     ]
    },
    {
     "name": "stdout",
     "output_type": "stream",
     "text": [
      "DataFrame for MA has been prepared and saved\n"
     ]
    },
    {
     "name": "stderr",
     "output_type": "stream",
     "text": [
      "[*********************100%%**********************]  1 of 1 completed\n",
      "[*********************100%%**********************]  1 of 1 completed\n"
     ]
    },
    {
     "name": "stdout",
     "output_type": "stream",
     "text": [
      "DataFrame for PG has been prepared and saved\n"
     ]
    },
    {
     "name": "stderr",
     "output_type": "stream",
     "text": [
      "[*********************100%%**********************]  1 of 1 completed\n",
      "[*********************100%%**********************]  1 of 1 completed\n"
     ]
    },
    {
     "name": "stdout",
     "output_type": "stream",
     "text": [
      "DataFrame for JNJ has been prepared and saved\n"
     ]
    },
    {
     "name": "stderr",
     "output_type": "stream",
     "text": [
      "[*********************100%%**********************]  1 of 1 completed\n",
      "[*********************100%%**********************]  1 of 1 completed\n"
     ]
    },
    {
     "name": "stdout",
     "output_type": "stream",
     "text": [
      "DataFrame for COST has been prepared and saved\n"
     ]
    },
    {
     "name": "stderr",
     "output_type": "stream",
     "text": [
      "[*********************100%%**********************]  1 of 1 completed\n",
      "[*********************100%%**********************]  1 of 1 completed\n"
     ]
    },
    {
     "name": "stdout",
     "output_type": "stream",
     "text": [
      "DataFrame for HD has been prepared and saved\n"
     ]
    },
    {
     "name": "stderr",
     "output_type": "stream",
     "text": [
      "[*********************100%%**********************]  1 of 1 completed\n",
      "[*********************100%%**********************]  1 of 1 completed\n"
     ]
    },
    {
     "name": "stdout",
     "output_type": "stream",
     "text": [
      "DataFrame for MRK has been prepared and saved\n"
     ]
    },
    {
     "name": "stderr",
     "output_type": "stream",
     "text": [
      "[*********************100%%**********************]  1 of 1 completed\n",
      "[*********************100%%**********************]  1 of 1 completed\n"
     ]
    },
    {
     "name": "stdout",
     "output_type": "stream",
     "text": [
      "DataFrame for ORCL has been prepared and saved\n"
     ]
    },
    {
     "name": "stderr",
     "output_type": "stream",
     "text": [
      "[*********************100%%**********************]  1 of 1 completed\n",
      "[*********************100%%**********************]  1 of 1 completed\n"
     ]
    },
    {
     "name": "stdout",
     "output_type": "stream",
     "text": [
      "DataFrame for CVX has been prepared and saved\n"
     ]
    },
    {
     "name": "stderr",
     "output_type": "stream",
     "text": [
      "[*********************100%%**********************]  1 of 1 completed\n",
      "[*********************100%%**********************]  1 of 1 completed\n",
      "[*********************100%%**********************]  1 of 1 completed"
     ]
    },
    {
     "name": "stdout",
     "output_type": "stream",
     "text": [
      "DataFrame for BAC has been prepared and saved\n"
     ]
    },
    {
     "name": "stderr",
     "output_type": "stream",
     "text": [
      "\n",
      "[*********************100%%**********************]  1 of 1 completed\n"
     ]
    },
    {
     "name": "stdout",
     "output_type": "stream",
     "text": [
      "DataFrame for ABBV has been prepared and saved\n"
     ]
    },
    {
     "name": "stderr",
     "output_type": "stream",
     "text": [
      "[*********************100%%**********************]  1 of 1 completed\n",
      "[*********************100%%**********************]  1 of 1 completed\n"
     ]
    },
    {
     "name": "stdout",
     "output_type": "stream",
     "text": [
      "DataFrame for KO has been prepared and saved\n"
     ]
    },
    {
     "name": "stderr",
     "output_type": "stream",
     "text": [
      "[*********************100%%**********************]  1 of 1 completed\n",
      "[*********************100%%**********************]  1 of 1 completed\n",
      "[*********************100%%**********************]  1 of 1 completed"
     ]
    },
    {
     "name": "stdout",
     "output_type": "stream",
     "text": [
      "DataFrame for CRM has been prepared and saved\n"
     ]
    },
    {
     "name": "stderr",
     "output_type": "stream",
     "text": [
      "\n",
      "[*********************100%%**********************]  1 of 1 completed\n"
     ]
    },
    {
     "name": "stdout",
     "output_type": "stream",
     "text": [
      "DataFrame for NFLX has been prepared and saved\n"
     ]
    },
    {
     "name": "stderr",
     "output_type": "stream",
     "text": [
      "[*********************100%%**********************]  1 of 1 completed\n",
      "[*********************100%%**********************]  1 of 1 completed\n",
      "[*********************100%%**********************]  1 of 1 completed"
     ]
    },
    {
     "name": "stdout",
     "output_type": "stream",
     "text": [
      "DataFrame for PEP has been prepared and saved\n"
     ]
    },
    {
     "name": "stderr",
     "output_type": "stream",
     "text": [
      "\n",
      "[*********************100%%**********************]  1 of 1 completed\n"
     ]
    },
    {
     "name": "stdout",
     "output_type": "stream",
     "text": [
      "DataFrame for AMD has been prepared and saved\n"
     ]
    },
    {
     "name": "stderr",
     "output_type": "stream",
     "text": [
      "[*********************100%%**********************]  1 of 1 completed\n",
      "[*********************100%%**********************]  1 of 1 completed\n"
     ]
    },
    {
     "name": "stdout",
     "output_type": "stream",
     "text": [
      "DataFrame for TMO has been prepared and saved\n"
     ]
    },
    {
     "name": "stderr",
     "output_type": "stream",
     "text": [
      "[*********************100%%**********************]  1 of 1 completed\n",
      "[*********************100%%**********************]  1 of 1 completed\n"
     ]
    },
    {
     "name": "stdout",
     "output_type": "stream",
     "text": [
      "DataFrame for ADBE has been prepared and saved\n"
     ]
    },
    {
     "name": "stderr",
     "output_type": "stream",
     "text": [
      "[*********************100%%**********************]  1 of 1 completed\n",
      "[*********************100%%**********************]  1 of 1 completed\n"
     ]
    },
    {
     "name": "stdout",
     "output_type": "stream",
     "text": [
      "DataFrame for WFC has been prepared and saved\n"
     ]
    },
    {
     "name": "stderr",
     "output_type": "stream",
     "text": [
      "[*********************100%%**********************]  1 of 1 completed\n",
      "[*********************100%%**********************]  1 of 1 completed\n"
     ]
    },
    {
     "name": "stdout",
     "output_type": "stream",
     "text": [
      "DataFrame for LIN has been prepared and saved\n"
     ]
    },
    {
     "name": "stderr",
     "output_type": "stream",
     "text": [
      "[*********************100%%**********************]  1 of 1 completed\n",
      "[*********************100%%**********************]  1 of 1 completed\n"
     ]
    },
    {
     "name": "stdout",
     "output_type": "stream",
     "text": [
      "DataFrame for QCOM has been prepared and saved\n"
     ]
    },
    {
     "name": "stderr",
     "output_type": "stream",
     "text": [
      "[*********************100%%**********************]  1 of 1 completed\n",
      "[*********************100%%**********************]  1 of 1 completed\n"
     ]
    },
    {
     "name": "stdout",
     "output_type": "stream",
     "text": [
      "DataFrame for CSCO has been prepared and saved\n"
     ]
    },
    {
     "name": "stderr",
     "output_type": "stream",
     "text": [
      "[*********************100%%**********************]  1 of 1 completed\n",
      "[*********************100%%**********************]  1 of 1 completed\n"
     ]
    },
    {
     "name": "stdout",
     "output_type": "stream",
     "text": [
      "DataFrame for MCD has been prepared and saved\n"
     ]
    },
    {
     "name": "stderr",
     "output_type": "stream",
     "text": [
      "[*********************100%%**********************]  1 of 1 completed\n",
      "[*********************100%%**********************]  1 of 1 completed\n"
     ]
    },
    {
     "name": "stdout",
     "output_type": "stream",
     "text": [
      "DataFrame for ACN has been prepared and saved\n"
     ]
    },
    {
     "name": "stderr",
     "output_type": "stream",
     "text": [
      "[*********************100%%**********************]  1 of 1 completed\n",
      "[*********************100%%**********************]  1 of 1 completed\n",
      "[*********************100%%**********************]  1 of 1 completed"
     ]
    },
    {
     "name": "stdout",
     "output_type": "stream",
     "text": [
      "DataFrame for DIS has been prepared and saved\n"
     ]
    },
    {
     "name": "stderr",
     "output_type": "stream",
     "text": [
      "\n",
      "[*********************100%%**********************]  1 of 1 completed\n"
     ]
    },
    {
     "name": "stdout",
     "output_type": "stream",
     "text": [
      "DataFrame for TMUS has been prepared and saved\n"
     ]
    },
    {
     "name": "stderr",
     "output_type": "stream",
     "text": [
      "[*********************100%%**********************]  1 of 1 completed\n",
      "[*********************100%%**********************]  1 of 1 completed\n"
     ]
    },
    {
     "name": "stdout",
     "output_type": "stream",
     "text": [
      "DataFrame for DHR has been prepared and saved\n"
     ]
    },
    {
     "name": "stderr",
     "output_type": "stream",
     "text": [
      "[*********************100%%**********************]  1 of 1 completed\n",
      "[*********************100%%**********************]  1 of 1 completed\n"
     ]
    },
    {
     "name": "stdout",
     "output_type": "stream",
     "text": [
      "DataFrame for ABT has been prepared and saved\n"
     ]
    },
    {
     "name": "stderr",
     "output_type": "stream",
     "text": [
      "[*********************100%%**********************]  1 of 1 completed\n",
      "[*********************100%%**********************]  1 of 1 completed\n"
     ]
    },
    {
     "name": "stdout",
     "output_type": "stream",
     "text": [
      "DataFrame for INTU has been prepared and saved\n"
     ]
    },
    {
     "name": "stderr",
     "output_type": "stream",
     "text": [
      "[*********************100%%**********************]  1 of 1 completed\n",
      "[*********************100%%**********************]  1 of 1 completed\n"
     ]
    },
    {
     "name": "stdout",
     "output_type": "stream",
     "text": [
      "DataFrame for GE has been prepared and saved\n"
     ]
    },
    {
     "name": "stderr",
     "output_type": "stream",
     "text": [
      "[*********************100%%**********************]  1 of 1 completed\n",
      "[*********************100%%**********************]  1 of 1 completed\n"
     ]
    },
    {
     "name": "stdout",
     "output_type": "stream",
     "text": [
      "DataFrame for CAT has been prepared and saved\n"
     ]
    },
    {
     "name": "stderr",
     "output_type": "stream",
     "text": [
      "[*********************100%%**********************]  1 of 1 completed\n",
      "[*********************100%%**********************]  1 of 1 completed\n"
     ]
    },
    {
     "name": "stdout",
     "output_type": "stream",
     "text": [
      "DataFrame for AMAT has been prepared and saved\n"
     ]
    },
    {
     "name": "stderr",
     "output_type": "stream",
     "text": [
      "[*********************100%%**********************]  1 of 1 completed\n",
      "[*********************100%%**********************]  1 of 1 completed\n"
     ]
    },
    {
     "name": "stdout",
     "output_type": "stream",
     "text": [
      "DataFrame for AXP has been prepared and saved\n"
     ]
    },
    {
     "name": "stderr",
     "output_type": "stream",
     "text": [
      "[*********************100%%**********************]  1 of 1 completed\n",
      "[*********************100%%**********************]  1 of 1 completed\n"
     ]
    },
    {
     "name": "stdout",
     "output_type": "stream",
     "text": [
      "DataFrame for TXN has been prepared and saved\n"
     ]
    },
    {
     "name": "stderr",
     "output_type": "stream",
     "text": [
      "[*********************100%%**********************]  1 of 1 completed\n",
      "[*********************100%%**********************]  1 of 1 completed\n"
     ]
    },
    {
     "name": "stdout",
     "output_type": "stream",
     "text": [
      "DataFrame for VZ has been prepared and saved\n"
     ]
    }
   ],
   "source": [
    "selected_stocks = get_s_p_stocks(60)\n",
    "\n",
    "for stock_symbol in selected_stocks:\n",
    "    prepare_features(stock_symbol, option_volume=False)"
   ]
  },
  {
   "cell_type": "code",
   "execution_count": 10,
   "metadata": {},
   "outputs": [
    {
     "name": "stderr",
     "output_type": "stream",
     "text": [
      "[*********************100%%**********************]  1 of 1 completed\n",
      "[*********************100%%**********************]  1 of 1 completed\n"
     ]
    },
    {
     "name": "stdout",
     "output_type": "stream",
     "text": [
      "DataFrame for AMGN has been prepared and saved\n"
     ]
    },
    {
     "name": "stderr",
     "output_type": "stream",
     "text": [
      "[*********************100%%**********************]  1 of 1 completed\n",
      "[*********************100%%**********************]  1 of 1 completed\n"
     ]
    },
    {
     "name": "stdout",
     "output_type": "stream",
     "text": [
      "DataFrame for PFE has been prepared and saved\n"
     ]
    },
    {
     "name": "stderr",
     "output_type": "stream",
     "text": [
      "[*********************100%%**********************]  1 of 1 completed\n",
      "[*********************100%%**********************]  1 of 1 completed\n"
     ]
    },
    {
     "name": "stdout",
     "output_type": "stream",
     "text": [
      "DataFrame for MS has been prepared and saved\n"
     ]
    },
    {
     "name": "stderr",
     "output_type": "stream",
     "text": [
      "[*********************100%%**********************]  1 of 1 completed\n",
      "[*********************100%%**********************]  1 of 1 completed\n"
     ]
    },
    {
     "name": "stdout",
     "output_type": "stream",
     "text": [
      "DataFrame for CMCSA has been prepared and saved\n"
     ]
    },
    {
     "name": "stderr",
     "output_type": "stream",
     "text": [
      "[*********************100%%**********************]  1 of 1 completed\n",
      "[*********************100%%**********************]  1 of 1 completed\n"
     ]
    },
    {
     "name": "stdout",
     "output_type": "stream",
     "text": [
      "DataFrame for IBM has been prepared and saved\n"
     ]
    },
    {
     "name": "stderr",
     "output_type": "stream",
     "text": [
      "[*********************100%%**********************]  1 of 1 completed\n",
      "[*********************100%%**********************]  1 of 1 completed\n"
     ]
    },
    {
     "name": "stdout",
     "output_type": "stream",
     "text": [
      "DataFrame for NEE has been prepared and saved\n"
     ]
    },
    {
     "name": "stderr",
     "output_type": "stream",
     "text": [
      "[*********************100%%**********************]  1 of 1 completed\n",
      "[*********************100%%**********************]  1 of 1 completed\n"
     ]
    },
    {
     "name": "stdout",
     "output_type": "stream",
     "text": [
      "DataFrame for UNP has been prepared and saved\n"
     ]
    }
   ],
   "source": [
    "# Zusätzliche Aktien\n",
    "additonal_stocks = ['AMGN', 'PFE', 'MS', 'CMCSA', 'IBM', 'NEE', 'UNP']\n",
    "\n",
    "for stock_symbol in additonal_stocks:\n",
    "    prepare_features(stock_symbol, option_volume=False)"
   ]
  },
  {
   "cell_type": "code",
   "execution_count": 11,
   "metadata": {},
   "outputs": [
    {
     "data": {
      "text/html": [
       "<div>\n",
       "<style scoped>\n",
       "    .dataframe tbody tr th:only-of-type {\n",
       "        vertical-align: middle;\n",
       "    }\n",
       "\n",
       "    .dataframe tbody tr th {\n",
       "        vertical-align: top;\n",
       "    }\n",
       "\n",
       "    .dataframe thead th {\n",
       "        text-align: right;\n",
       "    }\n",
       "</style>\n",
       "<table border=\"1\" class=\"dataframe\">\n",
       "  <thead>\n",
       "    <tr style=\"text-align: right;\">\n",
       "      <th></th>\n",
       "      <th>Symbol</th>\n",
       "      <th>Column</th>\n",
       "      <th>NaN_Count</th>\n",
       "    </tr>\n",
       "  </thead>\n",
       "  <tbody>\n",
       "    <tr>\n",
       "      <th>0</th>\n",
       "      <td>AMD</td>\n",
       "      <td>VWAP_D</td>\n",
       "      <td>1</td>\n",
       "    </tr>\n",
       "  </tbody>\n",
       "</table>\n",
       "</div>"
      ],
      "text/plain": [
       "  Symbol  Column  NaN_Count\n",
       "0    AMD  VWAP_D          1"
      ]
     },
     "execution_count": 11,
     "metadata": {},
     "output_type": "execute_result"
    }
   ],
   "source": [
    "symbols = get_s_p_stocks(60)\n",
    "additional_symbols = ['AMGN', 'PFE', 'MS', 'CMCSA', 'IBM', 'NEE', 'UNP']\n",
    "\n",
    "all_symbols = symbols + additional_symbols\n",
    "\n",
    "nan_dict = {'Symbol': [], 'Column': [], 'NaN_Count': []}\n",
    "rows_dict = {'Symbol':[], 'Rows': []}\n",
    "\n",
    "stock_df_path = os.path.join('data', 'stock_dataframes')\n",
    "\n",
    "for symbol in all_symbols:\n",
    "    # jedes DataFrame lesen\n",
    "    file_path = os.path.join(stock_df_path, f'{symbol}.csv')\n",
    "    stock_df = pd.read_csv(file_path, index_col='Date', parse_dates=True)\n",
    "\n",
    "    # NaN Werte auslesen und in DF schreiben\n",
    "    for column in stock_df.columns:\n",
    "        nan_number = stock_df[column].isna().sum()\n",
    "        if nan_number > 0:\n",
    "            nan_dict['Symbol'].append(symbol)\n",
    "            nan_dict['Column'].append(column)\n",
    "            nan_dict['NaN_Count'].append(nan_number)\n",
    "    \n",
    "    rows_dict['Symbol'].append(symbol)\n",
    "    rows_dict['Rows'].append(stock_df.shape[0])\n",
    "\n",
    "nan_df = pd.DataFrame(nan_dict)\n",
    "\n",
    "rows_df = pd.DataFrame(rows_dict)\n",
    "\n",
    "nan_df"
   ]
  },
  {
   "cell_type": "code",
   "execution_count": 12,
   "metadata": {},
   "outputs": [
    {
     "data": {
      "text/html": [
       "<div>\n",
       "<style scoped>\n",
       "    .dataframe tbody tr th:only-of-type {\n",
       "        vertical-align: middle;\n",
       "    }\n",
       "\n",
       "    .dataframe tbody tr th {\n",
       "        vertical-align: top;\n",
       "    }\n",
       "\n",
       "    .dataframe thead th {\n",
       "        text-align: right;\n",
       "    }\n",
       "</style>\n",
       "<table border=\"1\" class=\"dataframe\">\n",
       "  <thead>\n",
       "    <tr style=\"text-align: right;\">\n",
       "      <th></th>\n",
       "      <th>Symbol</th>\n",
       "      <th>Rows</th>\n",
       "    </tr>\n",
       "  </thead>\n",
       "  <tbody>\n",
       "    <tr>\n",
       "      <th>0</th>\n",
       "      <td>MSFT</td>\n",
       "      <td>4956</td>\n",
       "    </tr>\n",
       "    <tr>\n",
       "      <th>1</th>\n",
       "      <td>AAPL</td>\n",
       "      <td>4956</td>\n",
       "    </tr>\n",
       "    <tr>\n",
       "      <th>2</th>\n",
       "      <td>NVDA</td>\n",
       "      <td>4956</td>\n",
       "    </tr>\n",
       "    <tr>\n",
       "      <th>3</th>\n",
       "      <td>GOOG</td>\n",
       "      <td>4546</td>\n",
       "    </tr>\n",
       "    <tr>\n",
       "      <th>4</th>\n",
       "      <td>GOOGL</td>\n",
       "      <td>4546</td>\n",
       "    </tr>\n",
       "    <tr>\n",
       "      <th>5</th>\n",
       "      <td>AMZN</td>\n",
       "      <td>4956</td>\n",
       "    </tr>\n",
       "    <tr>\n",
       "      <th>6</th>\n",
       "      <td>META</td>\n",
       "      <td>2595</td>\n",
       "    </tr>\n",
       "    <tr>\n",
       "      <th>7</th>\n",
       "      <td>BRK-B</td>\n",
       "      <td>4956</td>\n",
       "    </tr>\n",
       "    <tr>\n",
       "      <th>8</th>\n",
       "      <td>LLY</td>\n",
       "      <td>4956</td>\n",
       "    </tr>\n",
       "    <tr>\n",
       "      <th>9</th>\n",
       "      <td>AVGO</td>\n",
       "      <td>3297</td>\n",
       "    </tr>\n",
       "    <tr>\n",
       "      <th>10</th>\n",
       "      <td>V</td>\n",
       "      <td>3646</td>\n",
       "    </tr>\n",
       "    <tr>\n",
       "      <th>11</th>\n",
       "      <td>JPM</td>\n",
       "      <td>4956</td>\n",
       "    </tr>\n",
       "    <tr>\n",
       "      <th>12</th>\n",
       "      <td>TSLA</td>\n",
       "      <td>3072</td>\n",
       "    </tr>\n",
       "    <tr>\n",
       "      <th>13</th>\n",
       "      <td>XOM</td>\n",
       "      <td>4956</td>\n",
       "    </tr>\n",
       "    <tr>\n",
       "      <th>14</th>\n",
       "      <td>WMT</td>\n",
       "      <td>4956</td>\n",
       "    </tr>\n",
       "    <tr>\n",
       "      <th>15</th>\n",
       "      <td>UNH</td>\n",
       "      <td>4956</td>\n",
       "    </tr>\n",
       "    <tr>\n",
       "      <th>16</th>\n",
       "      <td>MA</td>\n",
       "      <td>4102</td>\n",
       "    </tr>\n",
       "    <tr>\n",
       "      <th>17</th>\n",
       "      <td>PG</td>\n",
       "      <td>4956</td>\n",
       "    </tr>\n",
       "    <tr>\n",
       "      <th>18</th>\n",
       "      <td>JNJ</td>\n",
       "      <td>4956</td>\n",
       "    </tr>\n",
       "    <tr>\n",
       "      <th>19</th>\n",
       "      <td>COST</td>\n",
       "      <td>4956</td>\n",
       "    </tr>\n",
       "    <tr>\n",
       "      <th>20</th>\n",
       "      <td>HD</td>\n",
       "      <td>4956</td>\n",
       "    </tr>\n",
       "    <tr>\n",
       "      <th>21</th>\n",
       "      <td>MRK</td>\n",
       "      <td>4956</td>\n",
       "    </tr>\n",
       "    <tr>\n",
       "      <th>22</th>\n",
       "      <td>ORCL</td>\n",
       "      <td>4956</td>\n",
       "    </tr>\n",
       "    <tr>\n",
       "      <th>23</th>\n",
       "      <td>CVX</td>\n",
       "      <td>4956</td>\n",
       "    </tr>\n",
       "    <tr>\n",
       "      <th>24</th>\n",
       "      <td>BAC</td>\n",
       "      <td>4956</td>\n",
       "    </tr>\n",
       "    <tr>\n",
       "      <th>25</th>\n",
       "      <td>ABBV</td>\n",
       "      <td>2440</td>\n",
       "    </tr>\n",
       "    <tr>\n",
       "      <th>26</th>\n",
       "      <td>KO</td>\n",
       "      <td>4956</td>\n",
       "    </tr>\n",
       "    <tr>\n",
       "      <th>27</th>\n",
       "      <td>CRM</td>\n",
       "      <td>4586</td>\n",
       "    </tr>\n",
       "    <tr>\n",
       "      <th>28</th>\n",
       "      <td>NFLX</td>\n",
       "      <td>4956</td>\n",
       "    </tr>\n",
       "    <tr>\n",
       "      <th>29</th>\n",
       "      <td>PEP</td>\n",
       "      <td>4956</td>\n",
       "    </tr>\n",
       "    <tr>\n",
       "      <th>30</th>\n",
       "      <td>AMD</td>\n",
       "      <td>4956</td>\n",
       "    </tr>\n",
       "    <tr>\n",
       "      <th>31</th>\n",
       "      <td>TMO</td>\n",
       "      <td>4956</td>\n",
       "    </tr>\n",
       "    <tr>\n",
       "      <th>32</th>\n",
       "      <td>ADBE</td>\n",
       "      <td>4956</td>\n",
       "    </tr>\n",
       "    <tr>\n",
       "      <th>33</th>\n",
       "      <td>WFC</td>\n",
       "      <td>4956</td>\n",
       "    </tr>\n",
       "    <tr>\n",
       "      <th>34</th>\n",
       "      <td>LIN</td>\n",
       "      <td>4956</td>\n",
       "    </tr>\n",
       "    <tr>\n",
       "      <th>35</th>\n",
       "      <td>QCOM</td>\n",
       "      <td>4956</td>\n",
       "    </tr>\n",
       "    <tr>\n",
       "      <th>36</th>\n",
       "      <td>CSCO</td>\n",
       "      <td>4956</td>\n",
       "    </tr>\n",
       "    <tr>\n",
       "      <th>37</th>\n",
       "      <td>MCD</td>\n",
       "      <td>4956</td>\n",
       "    </tr>\n",
       "    <tr>\n",
       "      <th>38</th>\n",
       "      <td>ACN</td>\n",
       "      <td>4956</td>\n",
       "    </tr>\n",
       "    <tr>\n",
       "      <th>39</th>\n",
       "      <td>DIS</td>\n",
       "      <td>4956</td>\n",
       "    </tr>\n",
       "    <tr>\n",
       "      <th>40</th>\n",
       "      <td>TMUS</td>\n",
       "      <td>3877</td>\n",
       "    </tr>\n",
       "    <tr>\n",
       "      <th>41</th>\n",
       "      <td>DHR</td>\n",
       "      <td>4956</td>\n",
       "    </tr>\n",
       "    <tr>\n",
       "      <th>42</th>\n",
       "      <td>ABT</td>\n",
       "      <td>4956</td>\n",
       "    </tr>\n",
       "    <tr>\n",
       "      <th>43</th>\n",
       "      <td>INTU</td>\n",
       "      <td>4956</td>\n",
       "    </tr>\n",
       "    <tr>\n",
       "      <th>44</th>\n",
       "      <td>GE</td>\n",
       "      <td>4956</td>\n",
       "    </tr>\n",
       "    <tr>\n",
       "      <th>45</th>\n",
       "      <td>CAT</td>\n",
       "      <td>4956</td>\n",
       "    </tr>\n",
       "    <tr>\n",
       "      <th>46</th>\n",
       "      <td>AMAT</td>\n",
       "      <td>4956</td>\n",
       "    </tr>\n",
       "    <tr>\n",
       "      <th>47</th>\n",
       "      <td>AXP</td>\n",
       "      <td>4956</td>\n",
       "    </tr>\n",
       "    <tr>\n",
       "      <th>48</th>\n",
       "      <td>TXN</td>\n",
       "      <td>4956</td>\n",
       "    </tr>\n",
       "    <tr>\n",
       "      <th>49</th>\n",
       "      <td>VZ</td>\n",
       "      <td>4956</td>\n",
       "    </tr>\n",
       "    <tr>\n",
       "      <th>50</th>\n",
       "      <td>AMGN</td>\n",
       "      <td>4956</td>\n",
       "    </tr>\n",
       "    <tr>\n",
       "      <th>51</th>\n",
       "      <td>PFE</td>\n",
       "      <td>4956</td>\n",
       "    </tr>\n",
       "    <tr>\n",
       "      <th>52</th>\n",
       "      <td>MS</td>\n",
       "      <td>4956</td>\n",
       "    </tr>\n",
       "    <tr>\n",
       "      <th>53</th>\n",
       "      <td>CMCSA</td>\n",
       "      <td>4956</td>\n",
       "    </tr>\n",
       "    <tr>\n",
       "      <th>54</th>\n",
       "      <td>IBM</td>\n",
       "      <td>4956</td>\n",
       "    </tr>\n",
       "    <tr>\n",
       "      <th>55</th>\n",
       "      <td>NEE</td>\n",
       "      <td>4956</td>\n",
       "    </tr>\n",
       "    <tr>\n",
       "      <th>56</th>\n",
       "      <td>UNP</td>\n",
       "      <td>4956</td>\n",
       "    </tr>\n",
       "  </tbody>\n",
       "</table>\n",
       "</div>"
      ],
      "text/plain": [
       "   Symbol  Rows\n",
       "0    MSFT  4956\n",
       "1    AAPL  4956\n",
       "2    NVDA  4956\n",
       "3    GOOG  4546\n",
       "4   GOOGL  4546\n",
       "5    AMZN  4956\n",
       "6    META  2595\n",
       "7   BRK-B  4956\n",
       "8     LLY  4956\n",
       "9    AVGO  3297\n",
       "10      V  3646\n",
       "11    JPM  4956\n",
       "12   TSLA  3072\n",
       "13    XOM  4956\n",
       "14    WMT  4956\n",
       "15    UNH  4956\n",
       "16     MA  4102\n",
       "17     PG  4956\n",
       "18    JNJ  4956\n",
       "19   COST  4956\n",
       "20     HD  4956\n",
       "21    MRK  4956\n",
       "22   ORCL  4956\n",
       "23    CVX  4956\n",
       "24    BAC  4956\n",
       "25   ABBV  2440\n",
       "26     KO  4956\n",
       "27    CRM  4586\n",
       "28   NFLX  4956\n",
       "29    PEP  4956\n",
       "30    AMD  4956\n",
       "31    TMO  4956\n",
       "32   ADBE  4956\n",
       "33    WFC  4956\n",
       "34    LIN  4956\n",
       "35   QCOM  4956\n",
       "36   CSCO  4956\n",
       "37    MCD  4956\n",
       "38    ACN  4956\n",
       "39    DIS  4956\n",
       "40   TMUS  3877\n",
       "41    DHR  4956\n",
       "42    ABT  4956\n",
       "43   INTU  4956\n",
       "44     GE  4956\n",
       "45    CAT  4956\n",
       "46   AMAT  4956\n",
       "47    AXP  4956\n",
       "48    TXN  4956\n",
       "49     VZ  4956\n",
       "50   AMGN  4956\n",
       "51    PFE  4956\n",
       "52     MS  4956\n",
       "53  CMCSA  4956\n",
       "54    IBM  4956\n",
       "55    NEE  4956\n",
       "56    UNP  4956"
      ]
     },
     "execution_count": 12,
     "metadata": {},
     "output_type": "execute_result"
    }
   ],
   "source": [
    "rows_df"
   ]
  },
  {
   "cell_type": "code",
   "execution_count": 13,
   "metadata": {},
   "outputs": [
    {
     "name": "stdout",
     "output_type": "stream",
     "text": [
      "50\n"
     ]
    },
    {
     "data": {
      "text/plain": [
       "['MSFT',\n",
       " 'AAPL',\n",
       " 'NVDA',\n",
       " 'GOOG',\n",
       " 'AMZN',\n",
       " 'BRK-B',\n",
       " 'LLY',\n",
       " 'JPM',\n",
       " 'XOM',\n",
       " 'WMT',\n",
       " 'UNH',\n",
       " 'MA',\n",
       " 'PG',\n",
       " 'JNJ',\n",
       " 'COST',\n",
       " 'HD',\n",
       " 'MRK',\n",
       " 'ORCL',\n",
       " 'CVX',\n",
       " 'BAC',\n",
       " 'KO',\n",
       " 'CRM',\n",
       " 'NFLX',\n",
       " 'PEP',\n",
       " 'AMD',\n",
       " 'TMO',\n",
       " 'ADBE',\n",
       " 'WFC',\n",
       " 'LIN',\n",
       " 'QCOM',\n",
       " 'CSCO',\n",
       " 'MCD',\n",
       " 'ACN',\n",
       " 'DIS',\n",
       " 'DHR',\n",
       " 'ABT',\n",
       " 'INTU',\n",
       " 'GE',\n",
       " 'CAT',\n",
       " 'AMAT',\n",
       " 'AXP',\n",
       " 'TXN',\n",
       " 'VZ',\n",
       " 'AMGN',\n",
       " 'PFE',\n",
       " 'MS',\n",
       " 'CMCSA',\n",
       " 'IBM',\n",
       " 'NEE',\n",
       " 'UNP']"
      ]
     },
     "execution_count": 13,
     "metadata": {},
     "output_type": "execute_result"
    }
   ],
   "source": [
    "valid_stocks = rows_df[rows_df['Rows'] >= 4000]['Symbol'].tolist()\n",
    "valid_stocks.remove('GOOGL')\n",
    "\n",
    "print(len(valid_stocks))\n",
    "valid_stocks"
   ]
  },
  {
   "cell_type": "code",
   "execution_count": 4,
   "metadata": {},
   "outputs": [
    {
     "name": "stdout",
     "output_type": "stream",
     "text": [
      "Checking for NaN Values...\n",
      "Column VWAP_D has 1 NaN Values\n",
      "Dropped 1 rows. (1 is the bugged AMD row)\n",
      "Saved DataFrame as combined_dataframe.csv at path data\\ML_data\\combined_dataframe.csv\n"
     ]
    }
   ],
   "source": [
    "combine_stocks()"
   ]
  },
  {
   "cell_type": "code",
   "execution_count": null,
   "metadata": {},
   "outputs": [],
   "source": []
  }
 ],
 "metadata": {
  "kernelspec": {
   "display_name": "stocks",
   "language": "python",
   "name": "python3"
  },
  "language_info": {
   "codemirror_mode": {
    "name": "ipython",
    "version": 3
   },
   "file_extension": ".py",
   "mimetype": "text/x-python",
   "name": "python",
   "nbconvert_exporter": "python",
   "pygments_lexer": "ipython3",
   "version": "3.11.9"
  }
 },
 "nbformat": 4,
 "nbformat_minor": 2
}
